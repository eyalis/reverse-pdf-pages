{
  "nbformat": 4,
  "nbformat_minor": 0,
  "metadata": {
    "colab": {
      "provenance": []
    },
    "kernelspec": {
      "name": "python3",
      "display_name": "Python 3"
    },
    "language_info": {
      "name": "python"
    }
  },
  "cells": [
    {
      "cell_type": "code",
      "execution_count": 4,
      "metadata": {
        "colab": {
          "base_uri": "https://localhost:8080/",
          "height": 52
        },
        "id": "9YWnxI7Xqiuq",
        "outputId": "b96fdbac-cc58-43a6-97b1-bcd06436265f"
      },
      "outputs": [
        {
          "output_type": "stream",
          "name": "stderr",
          "text": [
            "WARNING:PyPDF2._reader:Invalid stream (index 45) within object 1715 0: Stream has ended unexpectedly\n"
          ]
        },
        {
          "output_type": "display_data",
          "data": {
            "text/plain": [
              "<IPython.core.display.Javascript object>"
            ],
            "application/javascript": [
              "\n",
              "    async function download(id, filename, size) {\n",
              "      if (!google.colab.kernel.accessAllowed) {\n",
              "        return;\n",
              "      }\n",
              "      const div = document.createElement('div');\n",
              "      const label = document.createElement('label');\n",
              "      label.textContent = `Downloading \"${filename}\": `;\n",
              "      div.appendChild(label);\n",
              "      const progress = document.createElement('progress');\n",
              "      progress.max = size;\n",
              "      div.appendChild(progress);\n",
              "      document.body.appendChild(div);\n",
              "\n",
              "      const buffers = [];\n",
              "      let downloaded = 0;\n",
              "\n",
              "      const channel = await google.colab.kernel.comms.open(id);\n",
              "      // Send a message to notify the kernel that we're ready.\n",
              "      channel.send({})\n",
              "\n",
              "      for await (const message of channel.messages) {\n",
              "        // Send a message to notify the kernel that we're ready.\n",
              "        channel.send({})\n",
              "        if (message.buffers) {\n",
              "          for (const buffer of message.buffers) {\n",
              "            buffers.push(buffer);\n",
              "            downloaded += buffer.byteLength;\n",
              "            progress.value = downloaded;\n",
              "          }\n",
              "        }\n",
              "      }\n",
              "      const blob = new Blob(buffers, {type: 'application/binary'});\n",
              "      const a = document.createElement('a');\n",
              "      a.href = window.URL.createObjectURL(blob);\n",
              "      a.download = filename;\n",
              "      div.appendChild(a);\n",
              "      a.click();\n",
              "      div.remove();\n",
              "    }\n",
              "  "
            ]
          },
          "metadata": {}
        },
        {
          "output_type": "display_data",
          "data": {
            "text/plain": [
              "<IPython.core.display.Javascript object>"
            ],
            "application/javascript": [
              "download(\"download_f3c80313-c768-4bc6-8e1f-83575dd9cebe\", \"archivo_invertido.pdf\", 33226733)"
            ]
          },
          "metadata": {}
        },
        {
          "output_type": "stream",
          "name": "stdout",
          "text": [
            "Archivo invertido guardado como archivo_invertido.pdf\n"
          ]
        }
      ],
      "source": [
        "from PyPDF2 import PdfReader, PdfWriter\n",
        "from google.colab import files\n",
        "\n",
        "# Ruta del archivo subido\n",
        "input_file = '/content/100 shirim rishonim.pdf'\n",
        "output_file = 'archivo_invertido.pdf'\n",
        "\n",
        "# Leer el archivo PDF y crear uno nuevo con el orden invertido\n",
        "reader = PdfReader(input_file)\n",
        "writer = PdfWriter()\n",
        "\n",
        "# Invertir el orden de las páginas\n",
        "for page_num in range(len(reader.pages) - 1, -1, -1):\n",
        "    writer.add_page(reader.pages[page_num])\n",
        "\n",
        "# Guardar el nuevo archivo PDF\n",
        "with open(output_file, 'wb') as outfile:\n",
        "    writer.write(outfile)\n",
        "\n",
        "# Descargar el archivo invertido\n",
        "files.download(output_file)\n",
        "\n",
        "print(f'Archivo invertido guardado como {output_file}')\n"
      ]
    }
  ]
}